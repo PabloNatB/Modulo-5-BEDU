{
  "nbformat": 4,
  "nbformat_minor": 0,
  "metadata": {
    "colab": {
      "provenance": [],
      "authorship_tag": "ABX9TyP9GuaqXjKM4c0fELj/NFtk",
      "include_colab_link": true
    },
    "kernelspec": {
      "name": "ir",
      "display_name": "R"
    },
    "language_info": {
      "name": "R"
    }
  },
  "cells": [
    {
      "cell_type": "markdown",
      "metadata": {
        "id": "view-in-github",
        "colab_type": "text"
      },
      "source": [
        "<a href=\"https://colab.research.google.com/github/PabloNatB/Modulo-5-BEDU/blob/main/Student_Regresion.ipynb\" target=\"_parent\"><img src=\"https://colab.research.google.com/assets/colab-badge.svg\" alt=\"Open In Colab\"/></a>"
      ]
    },
    {
      "cell_type": "code",
      "source": [
        "install.packages(\"pacman\")"
      ],
      "metadata": {
        "colab": {
          "base_uri": "https://localhost:8080/"
        },
        "id": "m0-l2hmH3A_f",
        "outputId": "ada93230-65d3-40d3-afde-48f91aa64f35"
      },
      "execution_count": 2,
      "outputs": [
        {
          "output_type": "stream",
          "name": "stderr",
          "text": [
            "Installing package into ‘/usr/local/lib/R/site-library’\n",
            "(as ‘lib’ is unspecified)\n",
            "\n"
          ]
        }
      ]
    },
    {
      "cell_type": "code",
      "source": [
        "install.packages(\"glmnet\")"
      ],
      "metadata": {
        "colab": {
          "base_uri": "https://localhost:8080/"
        },
        "id": "-2Kglx7V3Eiw",
        "outputId": "a142f782-f4ec-4d2c-d84e-372425e760d0"
      },
      "execution_count": 9,
      "outputs": [
        {
          "output_type": "stream",
          "name": "stderr",
          "text": [
            "Installing package into ‘/usr/local/lib/R/site-library’\n",
            "(as ‘lib’ is unspecified)\n",
            "\n",
            "also installing the dependencies ‘iterators’, ‘foreach’, ‘shape’, ‘Rcpp’, ‘RcppEigen’\n",
            "\n",
            "\n"
          ]
        }
      ]
    },
    {
      "cell_type": "code",
      "source": [
        "install.packages(\"caret\")"
      ],
      "metadata": {
        "colab": {
          "base_uri": "https://localhost:8080/"
        },
        "id": "g6syiXY34rEL",
        "outputId": "0ce2dd9d-0cd2-426b-b32f-d83368a6a43e"
      },
      "execution_count": 11,
      "outputs": [
        {
          "output_type": "stream",
          "name": "stderr",
          "text": [
            "Installing package into ‘/usr/local/lib/R/site-library’\n",
            "(as ‘lib’ is unspecified)\n",
            "\n",
            "also installing the dependencies ‘listenv’, ‘parallelly’, ‘future’, ‘globals’, ‘future.apply’, ‘numDeriv’, ‘progressr’, ‘SQUAREM’, ‘diagram’, ‘lava’, ‘prodlim’, ‘proxy’, ‘clock’, ‘gower’, ‘hardhat’, ‘ipred’, ‘timeDate’, ‘e1071’, ‘ModelMetrics’, ‘plyr’, ‘pROC’, ‘recipes’, ‘reshape2’\n",
            "\n",
            "\n"
          ]
        }
      ]
    },
    {
      "cell_type": "code",
      "execution_count": 12,
      "metadata": {
        "colab": {
          "base_uri": "https://localhost:8080/"
        },
        "id": "c16FT22I2C1f",
        "outputId": "87e451d3-bcfb-40a8-cf68-6fc0908163ba"
      },
      "outputs": [
        {
          "output_type": "stream",
          "name": "stderr",
          "text": [
            "Loading required package: lattice\n",
            "\n",
            "\n",
            "Attaching package: ‘caret’\n",
            "\n",
            "\n",
            "The following object is masked from ‘package:purrr’:\n",
            "\n",
            "    lift\n",
            "\n",
            "\n"
          ]
        }
      ],
      "source": [
        "# Load necessary libraries\n",
        "library(tidyverse)\n",
        "library(caret)\n",
        "library(glmnet)"
      ]
    },
    {
      "cell_type": "code",
      "source": [
        "# Ignore warnings\n",
        "options(warn=-1)\n",
        "\n"
      ],
      "metadata": {
        "id": "JLlPcurN4l2P"
      },
      "execution_count": 13,
      "outputs": []
    },
    {
      "cell_type": "code",
      "source": [
        "# Set plot size\n",
        "options(repr.plot.width=15, repr.plot.height=10)\n",
        "\n"
      ],
      "metadata": {
        "id": "i66ZS9hq7J6H"
      },
      "execution_count": 14,
      "outputs": []
    },
    {
      "cell_type": "code",
      "source": [
        "# Read the CSV file\n",
        "url <- \"https://github.com/PabloNatB/Modulo-5-BEDU/raw/main/Student_Performance.csv\"\n",
        "df <- read.csv(url)"
      ],
      "metadata": {
        "id": "MK0aT7T_7K5W"
      },
      "execution_count": 15,
      "outputs": []
    },
    {
      "cell_type": "code",
      "source": [
        "# Display the first few rows of the dataframe\n",
        "head(df)"
      ],
      "metadata": {
        "colab": {
          "base_uri": "https://localhost:8080/",
          "height": 286
        },
        "id": "3a3nQaSO7LaA",
        "outputId": "26f62ba1-b656-42a7-95e4-c11746250b9b"
      },
      "execution_count": 16,
      "outputs": [
        {
          "output_type": "display_data",
          "data": {
            "text/html": [
              "<table class=\"dataframe\">\n",
              "<caption>A data.frame: 6 × 6</caption>\n",
              "<thead>\n",
              "\t<tr><th></th><th scope=col>Hours.Studied</th><th scope=col>Previous.Scores</th><th scope=col>Extracurricular.Activities</th><th scope=col>Sleep.Hours</th><th scope=col>Sample.Question.Papers.Practiced</th><th scope=col>Performance.Index</th></tr>\n",
              "\t<tr><th></th><th scope=col>&lt;int&gt;</th><th scope=col>&lt;int&gt;</th><th scope=col>&lt;chr&gt;</th><th scope=col>&lt;int&gt;</th><th scope=col>&lt;int&gt;</th><th scope=col>&lt;dbl&gt;</th></tr>\n",
              "</thead>\n",
              "<tbody>\n",
              "\t<tr><th scope=row>1</th><td>7</td><td>99</td><td>Yes</td><td>9</td><td>1</td><td>91</td></tr>\n",
              "\t<tr><th scope=row>2</th><td>4</td><td>82</td><td>No </td><td>4</td><td>2</td><td>65</td></tr>\n",
              "\t<tr><th scope=row>3</th><td>8</td><td>51</td><td>Yes</td><td>7</td><td>2</td><td>45</td></tr>\n",
              "\t<tr><th scope=row>4</th><td>5</td><td>52</td><td>Yes</td><td>5</td><td>2</td><td>36</td></tr>\n",
              "\t<tr><th scope=row>5</th><td>7</td><td>75</td><td>No </td><td>8</td><td>5</td><td>66</td></tr>\n",
              "\t<tr><th scope=row>6</th><td>3</td><td>78</td><td>No </td><td>9</td><td>6</td><td>61</td></tr>\n",
              "</tbody>\n",
              "</table>\n"
            ],
            "text/markdown": "\nA data.frame: 6 × 6\n\n| <!--/--> | Hours.Studied &lt;int&gt; | Previous.Scores &lt;int&gt; | Extracurricular.Activities &lt;chr&gt; | Sleep.Hours &lt;int&gt; | Sample.Question.Papers.Practiced &lt;int&gt; | Performance.Index &lt;dbl&gt; |\n|---|---|---|---|---|---|---|\n| 1 | 7 | 99 | Yes | 9 | 1 | 91 |\n| 2 | 4 | 82 | No  | 4 | 2 | 65 |\n| 3 | 8 | 51 | Yes | 7 | 2 | 45 |\n| 4 | 5 | 52 | Yes | 5 | 2 | 36 |\n| 5 | 7 | 75 | No  | 8 | 5 | 66 |\n| 6 | 3 | 78 | No  | 9 | 6 | 61 |\n\n",
            "text/latex": "A data.frame: 6 × 6\n\\begin{tabular}{r|llllll}\n  & Hours.Studied & Previous.Scores & Extracurricular.Activities & Sleep.Hours & Sample.Question.Papers.Practiced & Performance.Index\\\\\n  & <int> & <int> & <chr> & <int> & <int> & <dbl>\\\\\n\\hline\n\t1 & 7 & 99 & Yes & 9 & 1 & 91\\\\\n\t2 & 4 & 82 & No  & 4 & 2 & 65\\\\\n\t3 & 8 & 51 & Yes & 7 & 2 & 45\\\\\n\t4 & 5 & 52 & Yes & 5 & 2 & 36\\\\\n\t5 & 7 & 75 & No  & 8 & 5 & 66\\\\\n\t6 & 3 & 78 & No  & 9 & 6 & 61\\\\\n\\end{tabular}\n",
            "text/plain": [
              "  Hours.Studied Previous.Scores Extracurricular.Activities Sleep.Hours\n",
              "1 7             99              Yes                        9          \n",
              "2 4             82              No                         4          \n",
              "3 8             51              Yes                        7          \n",
              "4 5             52              Yes                        5          \n",
              "5 7             75              No                         8          \n",
              "6 3             78              No                         9          \n",
              "  Sample.Question.Papers.Practiced Performance.Index\n",
              "1 1                                91               \n",
              "2 2                                65               \n",
              "3 2                                45               \n",
              "4 2                                36               \n",
              "5 5                                66               \n",
              "6 6                                61               "
            ]
          },
          "metadata": {}
        }
      ]
    },
    {
      "cell_type": "code",
      "source": [
        "# Display information about the dataframe\n",
        "str(df)\n"
      ],
      "metadata": {
        "colab": {
          "base_uri": "https://localhost:8080/"
        },
        "id": "1XlbE8tX7OT6",
        "outputId": "cf5bd449-126a-4025-c782-9e8b2a6bbc5d"
      },
      "execution_count": 17,
      "outputs": [
        {
          "output_type": "stream",
          "name": "stdout",
          "text": [
            "'data.frame':\t10000 obs. of  6 variables:\n",
            " $ Hours.Studied                   : int  7 4 8 5 7 3 7 8 5 4 ...\n",
            " $ Previous.Scores                 : int  99 82 51 52 75 78 73 45 77 89 ...\n",
            " $ Extracurricular.Activities      : chr  \"Yes\" \"No\" \"Yes\" \"Yes\" ...\n",
            " $ Sleep.Hours                     : int  9 4 7 5 8 9 5 4 8 4 ...\n",
            " $ Sample.Question.Papers.Practiced: int  1 2 2 2 5 6 6 6 2 0 ...\n",
            " $ Performance.Index               : num  91 65 45 36 66 61 63 42 61 69 ...\n"
          ]
        }
      ]
    },
    {
      "cell_type": "code",
      "source": [
        "\n",
        "# Drop duplicates\n",
        "cat(\"before duplicates dropped: \", nrow(df), \"\\n\")\n",
        "df <- df[!duplicated(df), ]\n",
        "cat(\"after duplicates dropped: \", nrow(df), \"\\n\")\n",
        "\n"
      ],
      "metadata": {
        "colab": {
          "base_uri": "https://localhost:8080/"
        },
        "id": "h3Ybw7zI7Wki",
        "outputId": "d0974246-e8b9-40d3-81b5-1d283c7cb50c"
      },
      "execution_count": 19,
      "outputs": [
        {
          "output_type": "stream",
          "name": "stdout",
          "text": [
            "before duplicates dropped:  9873 \n",
            "after duplicates dropped:  9873 \n"
          ]
        }
      ]
    },
    {
      "cell_type": "code",
      "source": [
        "# Extract the 'Performance Index' column\n",
        "response <- df$`Performance Index`\n",
        "cat(\"Response variable type: \", typeof(response), \"\\n\")\n",
        "\n"
      ],
      "metadata": {
        "colab": {
          "base_uri": "https://localhost:8080/"
        },
        "id": "b__0cfH67hkW",
        "outputId": "c06f3c9f-3a0a-4177-a4da-c6b69a68df7f"
      },
      "execution_count": 20,
      "outputs": [
        {
          "output_type": "stream",
          "name": "stdout",
          "text": [
            "Response variable type:  NULL \n"
          ]
        }
      ]
    },
    {
      "cell_type": "code",
      "source": [
        "# Plot the response variable\n",
        "plot(response, type=\"l\", xlab=\"index\", ylab=\"Performance Index\")\n"
      ],
      "metadata": {
        "colab": {
          "base_uri": "https://localhost:8080/",
          "height": 800
        },
        "id": "FArysvAx7kKy",
        "outputId": "18e5f10a-3675-4067-91eb-fe9744e235dd"
      },
      "execution_count": 21,
      "outputs": [
        {
          "output_type": "error",
          "ename": "ERROR",
          "evalue": "Error in plot.window(...): need finite 'xlim' values\n",
          "traceback": [
            "Error in plot.window(...): need finite 'xlim' values\nTraceback:\n",
            "1. plot(response, type = \"l\", xlab = \"index\", ylab = \"Performance Index\")",
            "2. plot.default(response, type = \"l\", xlab = \"index\", ylab = \"Performance Index\")",
            "3. localWindow(xlim, ylim, log, asp, ...)",
            "4. plot.window(...)"
          ]
        },
        {
          "output_type": "display_data",
          "data": {
            "text/plain": [
              "plot without title"
            ],
            "image/png": "[encoded data removed]"
          },
          "metadata": {
            "image/png": {
              "width": 900,
              "height": 600
            }
          }
        }
      ]
    },
    {
      "cell_type": "code",
      "source": [
        "\n",
        "# Check the overall distribution of the response variable\n",
        "violinplot <- ggplot(df, aes(x=factor(1), y=response, fill=factor(1))) +\n",
        "  geom_violin(color='#f5d376') +\n",
        "  theme_minimal()\n",
        "print(violinplot)\n",
        "\n",
        "cat(\"Minimum response:\", min(response), \"\\n\")\n",
        "cat(\"Maximum response:\", max(response), \"\\n\")\n",
        "\n"
      ],
      "metadata": {
        "colab": {
          "base_uri": "https://localhost:8080/",
          "height": 1000
        },
        "id": "pdskT6U87m_G",
        "outputId": "6b2dcb7a-f32c-4ee2-cbcd-b46642e9ea9e"
      },
      "execution_count": 22,
      "outputs": [
        {
          "output_type": "error",
          "ename": "ERROR",
          "evalue": "\u001b[1m\u001b[33mError\u001b[39m in `geom_violin()`:\u001b[22m\n\u001b[1m\u001b[22m\u001b[33m!\u001b[39m Problem while computing stat.\n\u001b[36mℹ\u001b[39m Error occurred in the 1st layer.\n\u001b[1mCaused by error in `compute_layer()`:\u001b[22m\n\u001b[1m\u001b[22m\u001b[33m!\u001b[39m `stat_ydensity()` requires the following missing aesthetics: \u001b[32my\u001b[39m\n",
          "traceback": [
            "\u001b[1m\u001b[33mError\u001b[39m in `geom_violin()`:\u001b[22m\n\u001b[1m\u001b[22m\u001b[33m!\u001b[39m Problem while computing stat.\n\u001b[36mℹ\u001b[39m Error occurred in the 1st layer.\n\u001b[1mCaused by error in `compute_layer()`:\u001b[22m\n\u001b[1m\u001b[22m\u001b[33m!\u001b[39m `stat_ydensity()` requires the following missing aesthetics: \u001b[32my\u001b[39m\nTraceback:\n",
            "1. print(violinplot)",
            "2. print(violinplot)",
            "3. print.ggplot(violinplot)",
            "4. ggplot_build(x)",
            "5. ggplot_build.ggplot(x)",
            "6. by_layer(function(l, d) l$compute_statistic(d, layout), layers, \n .     data, \"computing stat\")",
            "7. try_fetch(for (i in seq_along(data)) {\n .     out[[i]] <- f(l = layers[[i]], d = data[[i]])\n . }, error = function(cnd) {\n .     cli::cli_abort(c(\"Problem while {step}.\", i = \"Error occurred in the {ordinal(i)} layer.\"), \n .         call = layers[[i]]$constructor, parent = cnd)\n . })",
            "8. tryCatch(withCallingHandlers(expr, condition = function(cnd) {\n .     {\n .         .__handler_frame__. <- TRUE\n .         .__setup_frame__. <- frame\n .         if (inherits(cnd, \"message\")) {\n .             except <- c(\"warning\", \"error\")\n .         }\n .         else if (inherits(cnd, \"warning\")) {\n .             except <- \"error\"\n .         }\n .         else {\n .             except <- \"\"\n .         }\n .     }\n .     while (!is_null(cnd)) {\n .         if (inherits(cnd, \"error\")) {\n .             out <- handlers[[1L]](cnd)\n .             if (!inherits(out, \"rlang_zap\")) \n .                 throw(out)\n .         }\n .         inherit <- .subset2(.subset2(cnd, \"rlang\"), \"inherit\")\n .         if (is_false(inherit)) {\n .             return()\n .         }\n .         cnd <- .subset2(cnd, \"parent\")\n .     }\n . }), stackOverflowError = handlers[[1L]])",
            "9. tryCatchList(expr, classes, parentenv, handlers)",
            "10. tryCatchOne(expr, names, parentenv, handlers[[1L]])",
            "11. doTryCatch(return(expr), name, parentenv, handler)",
            "12. withCallingHandlers(expr, condition = function(cnd) {\n  .     {\n  .         .__handler_frame__. <- TRUE\n  .         .__setup_frame__. <- frame\n  .         if (inherits(cnd, \"message\")) {\n  .             except <- c(\"warning\", \"error\")\n  .         }\n  .         else if (inherits(cnd, \"warning\")) {\n  .             except <- \"error\"\n  .         }\n  .         else {\n  .             except <- \"\"\n  .         }\n  .     }\n  .     while (!is_null(cnd)) {\n  .         if (inherits(cnd, \"error\")) {\n  .             out <- handlers[[1L]](cnd)\n  .             if (!inherits(out, \"rlang_zap\")) \n  .                 throw(out)\n  .         }\n  .         inherit <- .subset2(.subset2(cnd, \"rlang\"), \"inherit\")\n  .         if (is_false(inherit)) {\n  .             return()\n  .         }\n  .         cnd <- .subset2(cnd, \"parent\")\n  .     }\n  . })",
            "13. f(l = layers[[i]], d = data[[i]])",
            "14. l$compute_statistic(d, layout)",
            "15. compute_statistic(..., self = self)",
            "16. self$stat$compute_layer(data, self$computed_stat_params, layout)",
            "17. compute_layer(..., self = self)",
            "18. check_required_aesthetics(self$required_aes, c(names(data), names(params)), \n  .     snake_class(self))",
            "19. cli::cli_abort(message, call = call)",
            "20. rlang::abort(message, ..., call = call, use_cli_format = TRUE, \n  .     .frame = .frame)",
            "21. signal_abort(cnd, .file)",
            "22. signalCondition(cnd)",
            "23. (function (cnd) \n  . {\n  .     {\n  .         .__handler_frame__. <- TRUE\n  .         .__setup_frame__. <- frame\n  .         if (inherits(cnd, \"message\")) {\n  .             except <- c(\"warning\", \"error\")\n  .         }\n  .         else if (inherits(cnd, \"warning\")) {\n  .             except <- \"error\"\n  .         }\n  .         else {\n  .             except <- \"\"\n  .         }\n  .     }\n  .     while (!is_null(cnd)) {\n  .         if (inherits(cnd, \"error\")) {\n  .             out <- handlers[[1L]](cnd)\n  .             if (!inherits(out, \"rlang_zap\")) \n  .                 throw(out)\n  .         }\n  .         inherit <- .subset2(.subset2(cnd, \"rlang\"), \"inherit\")\n  .         if (is_false(inherit)) {\n  .             return()\n  .         }\n  .         cnd <- .subset2(cnd, \"parent\")\n  .     }\n  . })(structure(list(message = \"`stat_ydensity()` requires the following missing aesthetics: \\033[32my\\033[39m\", \n  .     trace = structure(list(call = list(IRkernel::main(), kernel$run(), \n  .         handle_shell(), executor$execute(msg), tryCatch(evaluate(request$content$code, \n  .             envir = .GlobalEnv, output_handler = oh, stop_on_error = 1L), \n  .             interrupt = function(cond) {\n  .                 log_debug(\"Interrupt during execution\")\n  .                 interrupted <<- TRUE\n  .             }, error = .self$handle_error), tryCatchList(expr, \n  .             classes, parentenv, handlers), tryCatchOne(tryCatchList(expr, \n  .             names[-nh], parentenv, handlers[-nh]), names[nh], \n  .             parentenv, handlers[[nh]]), doTryCatch(return(expr), \n  .             name, parentenv, handler), tryCatchList(expr, names[-nh], \n  .             parentenv, handlers[-nh]), tryCatchOne(expr, names, \n  .             parentenv, handlers[[1L]]), doTryCatch(return(expr), \n  .             name, parentenv, handler), evaluate(request$content$code, \n  .             envir = .GlobalEnv, output_handler = oh, stop_on_error = 1L), \n  .         evaluate_call(expr, parsed$src[[i]], envir = envir, enclos = enclos, \n  .             debug = debug, last = i == length(out), use_try = stop_on_error != \n  .                 2L, keep_warning = keep_warning, keep_message = keep_message, \n  .             log_echo = log_echo, log_warning = log_warning, output_handler = output_handler, \n  .             include_timing = include_timing), timing_fn(handle(ev <- withCallingHandlers(withVisible(eval_with_user_handlers(expr, \n  .             envir, enclos, user_handlers)), warning = wHandler, \n  .             error = eHandler, message = mHandler))), handle(ev <- withCallingHandlers(withVisible(eval_with_user_handlers(expr, \n  .             envir, enclos, user_handlers)), warning = wHandler, \n  .             error = eHandler, message = mHandler)), try(f, silent = TRUE), \n  .         tryCatch(expr, error = function(e) {\n  .             call <- conditionCall(e)\n  .             if (!is.null(call)) {\n  .                 if (identical(call[[1L]], quote(doTryCatch))) \n  .                   call <- sys.call(-4L)\n  .                 dcall <- deparse(call, nlines = 1L)\n  .                 prefix <- paste(\"Error in\", dcall, \": \")\n  .                 LONG <- 75L\n  .                 sm <- strsplit(conditionMessage(e), \"\\n\")[[1L]]\n  .                 w <- 14L + nchar(dcall, type = \"w\") + nchar(sm[1L], \n  .                   type = \"w\")\n  .                 if (is.na(w)) \n  .                   w <- 14L + nchar(dcall, type = \"b\") + nchar(sm[1L], \n  .                     type = \"b\")\n  .                 if (w > LONG) \n  .                   prefix <- paste0(prefix, \"\\n  \")\n  .             }\n  .             else prefix <- \"Error : \"\n  .             msg <- paste0(prefix, conditionMessage(e), \"\\n\")\n  .             .Internal(seterrmessage(msg[1L]))\n  .             if (!silent && isTRUE(getOption(\"show.error.messages\"))) {\n  .                 cat(msg, file = outFile)\n  .                 .Internal(printDeferredWarnings())\n  .             }\n  .             invisible(structure(msg, class = \"try-error\", condition = e))\n  .         }), tryCatchList(expr, classes, parentenv, handlers), \n  .         tryCatchOne(expr, names, parentenv, handlers[[1L]]), \n  .         doTryCatch(return(expr), name, parentenv, handler), withCallingHandlers(withVisible(eval_with_user_handlers(expr, \n  .             envir, enclos, user_handlers)), warning = wHandler, \n  .             error = eHandler, message = mHandler), withVisible(eval_with_user_handlers(expr, \n  .             envir, enclos, user_handlers)), eval_with_user_handlers(expr, \n  .             envir, enclos, user_handlers), eval(expr, envir, \n  .             enclos), eval(expr, envir, enclos), print(violinplot), \n  .         print(violinplot), print.ggplot(violinplot), ggplot_build(x), \n  .         ggplot_build.ggplot(x), by_layer(function(l, d) l$compute_statistic(d, \n  .             layout), layers, data, \"computing stat\"), try_fetch(for (i in seq_along(data)) {\n  .             out[[i]] <- f(l = layers[[i]], d = data[[i]])\n  .         }, error = function(cnd) {\n  .             cli::cli_abort(c(\"Problem while {step}.\", i = \"Error occurred in the {ordinal(i)} layer.\"), \n  .                 call = layers[[i]]$constructor, parent = cnd)\n  .         }), tryCatch(withCallingHandlers(expr, condition = function(cnd) {\n  .             {\n  .                 .__handler_frame__. <- TRUE\n  .                 .__setup_frame__. <- frame\n  .                 if (inherits(cnd, \"message\")) {\n  .                   except <- c(\"warning\", \"error\")\n  .                 }\n  .                 else if (inherits(cnd, \"warning\")) {\n  .                   except <- \"error\"\n  .                 }\n  .                 else {\n  .                   except <- \"\"\n  .                 }\n  .             }\n  .             while (!is_null(cnd)) {\n  .                 if (inherits(cnd, \"error\")) {\n  .                   out <- handlers[[1L]](cnd)\n  .                   if (!inherits(out, \"rlang_zap\")) \n  .                     throw(out)\n  .                 }\n  .                 inherit <- .subset2(.subset2(cnd, \"rlang\"), \"inherit\")\n  .                 if (is_false(inherit)) {\n  .                   return()\n  .                 }\n  .                 cnd <- .subset2(cnd, \"parent\")\n  .             }\n  .         }), stackOverflowError = handlers[[1L]]), tryCatchList(expr, \n  .             classes, parentenv, handlers), tryCatchOne(expr, \n  .             names, parentenv, handlers[[1L]]), doTryCatch(return(expr), \n  .             name, parentenv, handler), withCallingHandlers(expr, \n  .             condition = function(cnd) {\n  .                 {\n  .                   .__handler_frame__. <- TRUE\n  .                   .__setup_frame__. <- frame\n  .                   if (inherits(cnd, \"message\")) {\n  .                     except <- c(\"warning\", \"error\")\n  .                   }\n  .                   else if (inherits(cnd, \"warning\")) {\n  .                     except <- \"error\"\n  .                   }\n  .                   else {\n  .                     except <- \"\"\n  .                   }\n  .                 }\n  .                 while (!is_null(cnd)) {\n  .                   if (inherits(cnd, \"error\")) {\n  .                     out <- handlers[[1L]](cnd)\n  .                     if (!inherits(out, \"rlang_zap\")) \n  .                       throw(out)\n  .                   }\n  .                   inherit <- .subset2(.subset2(cnd, \"rlang\"), \n  .                     \"inherit\")\n  .                   if (is_false(inherit)) {\n  .                     return()\n  .                   }\n  .                   cnd <- .subset2(cnd, \"parent\")\n  .                 }\n  .             }), f(l = layers[[i]], d = data[[i]]), l$compute_statistic(d, \n  .             layout), compute_statistic(..., self = self), self$stat$compute_layer(data, \n  .             self$computed_stat_params, layout), compute_layer(..., \n  .             self = self), check_required_aesthetics(self$required_aes, \n  .             c(names(data), names(params)), snake_class(self)), \n  .         cli::cli_abort(message, call = call), rlang::abort(message, \n  .             ..., call = call, use_cli_format = TRUE, .frame = .frame)), \n  .         parent = c(0L, 1L, 2L, 3L, 4L, 5L, 6L, 7L, 6L, 9L, 10L, \n  .         4L, 12L, 13L, 13L, 15L, 16L, 17L, 18L, 19L, 13L, 13L, \n  .         13L, 23L, 24L, 0L, 0L, 0L, 28L, 28L, 30L, 31L, 32L, 33L, \n  .         34L, 35L, 32L, 31L, 38L, 39L, 40L, 41L, 42L, 43L, 44L\n  .         ), visible = c(TRUE, TRUE, TRUE, TRUE, TRUE, TRUE, TRUE, \n  .         TRUE, TRUE, TRUE, TRUE, TRUE, TRUE, TRUE, TRUE, TRUE, \n  .         TRUE, TRUE, TRUE, TRUE, TRUE, TRUE, TRUE, TRUE, TRUE, \n  .         TRUE, TRUE, TRUE, TRUE, TRUE, TRUE, TRUE, TRUE, TRUE, \n  .         TRUE, TRUE, TRUE, TRUE, TRUE, TRUE, TRUE, TRUE, FALSE, \n  .         FALSE, FALSE), namespace = c(\"IRkernel\", NA, \"IRkernel\", \n  .         NA, \"base\", \"base\", \"base\", \"base\", \"base\", \"base\", \"base\", \n  .         \"evaluate\", \"evaluate\", \"evaluate\", \"evaluate\", \"base\", \n  .         \"base\", \"base\", \"base\", \"base\", \"base\", \"base\", \"evaluate\", \n  .         \"base\", \"base\", \"base\", \"base\", \"ggplot2\", \"ggplot2\", \n  .         \"ggplot2\", \"ggplot2\", \"rlang\", \"base\", \"base\", \"base\", \n  .         \"base\", \"base\", \"ggplot2\", NA, \"ggplot2\", NA, \"ggplot2\", \n  .         \"ggplot2\", \"cli\", \"rlang\"), scope = c(\"::\", NA, \"local\", \n  .         NA, \"::\", \"local\", \"local\", \"local\", \"local\", \"local\", \n  .         \"local\", \"::\", \":::\", \"local\", \"local\", \"::\", \"::\", \"local\", \n  .         \"local\", \"local\", \"::\", \"::\", \":::\", \"::\", \"::\", \"::\", \n  .         \"::\", \":::\", \"::\", \":::\", \":::\", \"::\", \"::\", \"local\", \n  .         \"local\", \"local\", \"::\", \"local\", NA, \"local\", NA, \"local\", \n  .         \":::\", \"::\", \"::\"), error_frame = c(FALSE, FALSE, FALSE, \n  .         FALSE, FALSE, FALSE, FALSE, FALSE, FALSE, FALSE, FALSE, \n  .         FALSE, FALSE, FALSE, FALSE, FALSE, FALSE, FALSE, FALSE, \n  .         FALSE, FALSE, FALSE, FALSE, FALSE, FALSE, FALSE, FALSE, \n  .         FALSE, FALSE, FALSE, FALSE, FALSE, FALSE, FALSE, FALSE, \n  .         FALSE, FALSE, FALSE, FALSE, FALSE, FALSE, TRUE, FALSE, \n  .         FALSE, FALSE)), row.names = c(NA, -45L), version = 2L, class = c(\"rlang_trace\", \n  .     \"rlib_trace\", \"tbl\", \"data.frame\")), parent = NULL, rlang = list(\n  .         inherit = TRUE), call = compute_layer(..., self = self), \n  .     use_cli_format = TRUE), class = c(\"rlang_error\", \"error\", \n  . \"condition\")))",
            "24. handlers[[1L]](cnd)",
            "25. cli::cli_abort(c(\"Problem while {step}.\", i = \"Error occurred in the {ordinal(i)} layer.\"), \n  .     call = layers[[i]]$constructor, parent = cnd)",
            "26. rlang::abort(message, ..., call = call, use_cli_format = TRUE, \n  .     .frame = .frame)",
            "27. signal_abort(cnd, .file)"
          ]
        }
      ]
    },
    {
      "cell_type": "code",
      "source": [
        "# Explore the 'Hours Studied' variable\n",
        "X_hours_studied <- df$`Hours Studied`\n",
        "cat(\"Variable type: \", typeof(X_hours_studied), \"\\n\")\n",
        "cat(\"Unique values: \", unique(X_hours_studied), \"\\n\")\n"
      ],
      "metadata": {
        "colab": {
          "base_uri": "https://localhost:8080/"
        },
        "id": "AdQap7-Y7t2g",
        "outputId": "bceefdce-98df-464e-aa44-fa033c4efb0b"
      },
      "execution_count": 23,
      "outputs": [
        {
          "output_type": "stream",
          "name": "stdout",
          "text": [
            "Variable type:  NULL \n",
            "Unique values:  \n"
          ]
        }
      ]
    },
    {
      "cell_type": "code",
      "source": [
        "\n",
        "# Plot histogram and boxplot\n",
        "hist(X_hours_studied)\n",
        "boxplot(response ~ X_hours_studied, data=df)\n",
        "\n"
      ],
      "metadata": {
        "colab": {
          "base_uri": "https://localhost:8080/",
          "height": 181
        },
        "id": "sKp0aXj17yfJ",
        "outputId": "7fc71a68-0e59-4c88-dad8-4c7e956f8980"
      },
      "execution_count": 24,
      "outputs": [
        {
          "output_type": "error",
          "ename": "ERROR",
          "evalue": "Error in hist.default(X_hours_studied): 'x' must be numeric\n",
          "traceback": [
            "Error in hist.default(X_hours_studied): 'x' must be numeric\nTraceback:\n",
            "1. hist(X_hours_studied)",
            "2. hist.default(X_hours_studied)",
            "3. stop(\"'x' must be numeric\")"
          ]
        }
      ]
    },
    {
      "cell_type": "code",
      "source": [
        "# Plot violin plot\n",
        "ggplot(df, aes(x=factor(1), y=X_hours_studied, fill=factor(1))) +\n",
        "  geom_violin(color='#f7ba81') +\n",
        "  theme_minimal()\n"
      ],
      "metadata": {
        "colab": {
          "base_uri": "https://localhost:8080/"
        },
        "id": "4SpLFKcq7089",
        "outputId": "42c72c7e-b2f3-454e-9752-eb5d4f6f4452"
      },
      "execution_count": 25,
      "outputs": [
        {
          "output_type": "stream",
          "name": "stderr",
          "text": [
            "ERROR while rich displaying an object: \u001b[1m\u001b[33mError\u001b[39m in `geom_violin()`:\u001b[22m\n",
            "\u001b[1m\u001b[22m\u001b[33m!\u001b[39m Problem while computing stat.\n",
            "\u001b[36mℹ\u001b[39m Error occurred in the 1st layer.\n",
            "\u001b[1mCaused by error in `compute_layer()`:\u001b[22m\n",
            "\u001b[1m\u001b[22m\u001b[33m!\u001b[39m `stat_ydensity()` requires the following missing aesthetics: \u001b[32my\u001b[39m\n",
            "\n",
            "Traceback:\n",
            "1. tryCatch(withCallingHandlers({\n",
            " .     if (!mime %in% names(repr::mime2repr)) \n",
            " .         stop(\"No repr_* for mimetype \", mime, \" in repr::mime2repr\")\n",
            " .     rpr <- repr::mime2repr[[mime]](obj)\n",
            " .     if (is.null(rpr)) \n",
            " .         return(NULL)\n",
            " .     prepare_content(is.raw(rpr), rpr)\n",
            " . }, error = error_handler), error = outer_handler)\n",
            "2. tryCatchList(expr, classes, parentenv, handlers)\n",
            "3. tryCatchOne(expr, names, parentenv, handlers[[1L]])\n",
            "4. doTryCatch(return(expr), name, parentenv, handler)\n",
            "5. withCallingHandlers({\n",
            " .     if (!mime %in% names(repr::mime2repr)) \n",
            " .         stop(\"No repr_* for mimetype \", mime, \" in repr::mime2repr\")\n",
            " .     rpr <- repr::mime2repr[[mime]](obj)\n",
            " .     if (is.null(rpr)) \n",
            " .         return(NULL)\n",
            " .     prepare_content(is.raw(rpr), rpr)\n",
            " . }, error = error_handler)\n",
            "6. repr::mime2repr[[mime]](obj)\n",
            "7. repr_text.default(obj)\n",
            "8. paste(capture.output(print(obj)), collapse = \"\\n\")\n",
            "9. capture.output(print(obj))\n",
            "10. withVisible(...elt(i))\n",
            "11. print(obj)\n",
            "12. print.ggplot(obj)\n",
            "13. ggplot_build(x)\n",
            "14. ggplot_build.ggplot(x)\n",
            "15. by_layer(function(l, d) l$compute_statistic(d, layout), layers, \n",
            "  .     data, \"computing stat\")\n",
            "16. try_fetch(for (i in seq_along(data)) {\n",
            "  .     out[[i]] <- f(l = layers[[i]], d = data[[i]])\n",
            "  . }, error = function(cnd) {\n",
            "  .     cli::cli_abort(c(\"Problem while {step}.\", i = \"Error occurred in the {ordinal(i)} layer.\"), \n",
            "  .         call = layers[[i]]$constructor, parent = cnd)\n",
            "  . })\n",
            "17. tryCatch(withCallingHandlers(expr, condition = function(cnd) {\n",
            "  .     {\n",
            "  .         .__handler_frame__. <- TRUE\n",
            "  .         .__setup_frame__. <- frame\n",
            "  .         if (inherits(cnd, \"message\")) {\n",
            "  .             except <- c(\"warning\", \"error\")\n",
            "  .         }\n",
            "  .         else if (inherits(cnd, \"warning\")) {\n",
            "  .             except <- \"error\"\n",
            "  .         }\n",
            "  .         else {\n",
            "  .             except <- \"\"\n",
            "  .         }\n",
            "  .     }\n",
            "  .     while (!is_null(cnd)) {\n",
            "  .         if (inherits(cnd, \"error\")) {\n",
            "  .             out <- handlers[[1L]](cnd)\n",
            "  .             if (!inherits(out, \"rlang_zap\")) \n",
            "  .                 throw(out)\n",
            "  .         }\n",
            "  .         inherit <- .subset2(.subset2(cnd, \"rlang\"), \"inherit\")\n",
            "  .         if (is_false(inherit)) {\n",
            "  .             return()\n",
            "  .         }\n",
            "  .         cnd <- .subset2(cnd, \"parent\")\n",
            "  .     }\n",
            "  . }), stackOverflowError = handlers[[1L]])\n",
            "18. tryCatchList(expr, classes, parentenv, handlers)\n",
            "19. tryCatchOne(expr, names, parentenv, handlers[[1L]])\n",
            "20. doTryCatch(return(expr), name, parentenv, handler)\n",
            "21. withCallingHandlers(expr, condition = function(cnd) {\n",
            "  .     {\n",
            "  .         .__handler_frame__. <- TRUE\n",
            "  .         .__setup_frame__. <- frame\n",
            "  .         if (inherits(cnd, \"message\")) {\n",
            "  .             except <- c(\"warning\", \"error\")\n",
            "  .         }\n",
            "  .         else if (inherits(cnd, \"warning\")) {\n",
            "  .             except <- \"error\"\n",
            "  .         }\n",
            "  .         else {\n",
            "  .             except <- \"\"\n",
            "  .         }\n",
            "  .     }\n",
            "  .     while (!is_null(cnd)) {\n",
            "  .         if (inherits(cnd, \"error\")) {\n",
            "  .             out <- handlers[[1L]](cnd)\n",
            "  .             if (!inherits(out, \"rlang_zap\")) \n",
            "  .                 throw(out)\n",
            "  .         }\n",
            "  .         inherit <- .subset2(.subset2(cnd, \"rlang\"), \"inherit\")\n",
            "  .         if (is_false(inherit)) {\n",
            "  .             return()\n",
            "  .         }\n",
            "  .         cnd <- .subset2(cnd, \"parent\")\n",
            "  .     }\n",
            "  . })\n",
            "22. f(l = layers[[i]], d = data[[i]])\n",
            "23. l$compute_statistic(d, layout)\n",
            "24. compute_statistic(..., self = self)\n",
            "25. self$stat$compute_layer(data, self$computed_stat_params, layout)\n",
            "26. compute_layer(..., self = self)\n",
            "27. check_required_aesthetics(self$required_aes, c(names(data), names(params)), \n",
            "  .     snake_class(self))\n",
            "28. cli::cli_abort(message, call = call)\n",
            "29. rlang::abort(message, ..., call = call, use_cli_format = TRUE, \n",
            "  .     .frame = .frame)\n",
            "30. signal_abort(cnd, .file)\n",
            "31. signalCondition(cnd)\n",
            "32. (function (cnd) \n",
            "  . {\n",
            "  .     {\n",
            "  .         .__handler_frame__. <- TRUE\n",
            "  .         .__setup_frame__. <- frame\n",
            "  .         if (inherits(cnd, \"message\")) {\n",
            "  .             except <- c(\"warning\", \"error\")\n",
            "  .         }\n",
            "  .         else if (inherits(cnd, \"warning\")) {\n",
            "  .             except <- \"error\"\n",
            "  .         }\n",
            "  .         else {\n",
            "  .             except <- \"\"\n",
            "  .         }\n",
            "  .     }\n",
            "  .     while (!is_null(cnd)) {\n",
            "  .         if (inherits(cnd, \"error\")) {\n",
            "  .             out <- handlers[[1L]](cnd)\n",
            "  .             if (!inherits(out, \"rlang_zap\")) \n",
            "  .                 throw(out)\n",
            "  .         }\n",
            "  .         inherit <- .subset2(.subset2(cnd, \"rlang\"), \"inherit\")\n",
            "  .         if (is_false(inherit)) {\n",
            "  .             return()\n",
            "  .         }\n",
            "  .         cnd <- .subset2(cnd, \"parent\")\n",
            "  .     }\n",
            "  . })(structure(list(message = \"`stat_ydensity()` requires the following missing aesthetics: \\033[32my\\033[39m\", \n",
            "  .     trace = structure(list(call = list(IRkernel::main(), kernel$run(), \n",
            "  .         handle_shell(), executor$execute(msg), tryCatch(evaluate(request$content$code, \n",
            "  .             envir = .GlobalEnv, output_handler = oh, stop_on_error = 1L), \n",
            "  .             interrupt = function(cond) {\n",
            "  .                 log_debug(\"Interrupt during execution\")\n",
            "  .                 interrupted <<- TRUE\n",
            "  .             }, error = .self$handle_error), tryCatchList(expr, \n",
            "  .             classes, parentenv, handlers), tryCatchOne(tryCatchList(expr, \n",
            "  .             names[-nh], parentenv, handlers[-nh]), names[nh], \n",
            "  .             parentenv, handlers[[nh]]), doTryCatch(return(expr), \n",
            "  .             name, parentenv, handler), tryCatchList(expr, names[-nh], \n",
            "  .             parentenv, handlers[-nh]), tryCatchOne(expr, names, \n",
            "  .             parentenv, handlers[[1L]]), doTryCatch(return(expr), \n",
            "  .             name, parentenv, handler), evaluate(request$content$code, \n",
            "  .             envir = .GlobalEnv, output_handler = oh, stop_on_error = 1L), \n",
            "  .         evaluate_call(expr, parsed$src[[i]], envir = envir, enclos = enclos, \n",
            "  .             debug = debug, last = i == length(out), use_try = stop_on_error != \n",
            "  .                 2L, keep_warning = keep_warning, keep_message = keep_message, \n",
            "  .             log_echo = log_echo, log_warning = log_warning, output_handler = output_handler, \n",
            "  .             include_timing = include_timing), handle(pv <- withCallingHandlers(withVisible(value_fun(ev$value, \n",
            "  .             ev$visible)), warning = wHandler, error = eHandler, \n",
            "  .             message = mHandler)), try(f, silent = TRUE), tryCatch(expr, \n",
            "  .             error = function(e) {\n",
            "  .                 call <- conditionCall(e)\n",
            "  .                 if (!is.null(call)) {\n",
            "  .                   if (identical(call[[1L]], quote(doTryCatch))) \n",
            "  .                     call <- sys.call(-4L)\n",
            "  .                   dcall <- deparse(call, nlines = 1L)\n",
            "  .                   prefix <- paste(\"Error in\", dcall, \": \")\n",
            "  .                   LONG <- 75L\n",
            "  .                   sm <- strsplit(conditionMessage(e), \"\\n\")[[1L]]\n",
            "  .                   w <- 14L + nchar(dcall, type = \"w\") + nchar(sm[1L], \n",
            "  .                     type = \"w\")\n",
            "  .                   if (is.na(w)) \n",
            "  .                     w <- 14L + nchar(dcall, type = \"b\") + nchar(sm[1L], \n",
            "  .                       type = \"b\")\n",
            "  .                   if (w > LONG) \n",
            "  .                     prefix <- paste0(prefix, \"\\n  \")\n",
            "  .                 }\n",
            "  .                 else prefix <- \"Error : \"\n",
            "  .                 msg <- paste0(prefix, conditionMessage(e), \"\\n\")\n",
            "  .                 .Internal(seterrmessage(msg[1L]))\n",
            "  .                 if (!silent && isTRUE(getOption(\"show.error.messages\"))) {\n",
            "  .                   cat(msg, file = outFile)\n",
            "  .                   .Internal(printDeferredWarnings())\n",
            "  .                 }\n",
            "  .                 invisible(structure(msg, class = \"try-error\", \n",
            "  .                   condition = e))\n",
            "  .             }), tryCatchList(expr, classes, parentenv, handlers), \n",
            "  .         tryCatchOne(expr, names, parentenv, handlers[[1L]]), \n",
            "  .         doTryCatch(return(expr), name, parentenv, handler), withCallingHandlers(withVisible(value_fun(ev$value, \n",
            "  .             ev$visible)), warning = wHandler, error = eHandler, \n",
            "  .             message = mHandler), withVisible(value_fun(ev$value, \n",
            "  .             ev$visible)), value_fun(ev$value, ev$visible), prepare_mimebundle_kernel(obj, \n",
            "  .             .self$handle_display_error), prepare_mimebundle(obj, \n",
            "  .             \"text/plain\", error_handler = handle_display_error), \n",
            "  .         filter_map(mimetypes, function(mime) {\n",
            "  .             tryCatch(withCallingHandlers({\n",
            "  .                 if (!mime %in% names(repr::mime2repr)) \n",
            "  .                   stop(\"No repr_* for mimetype \", mime, \" in repr::mime2repr\")\n",
            "  .                 rpr <- repr::mime2repr[[mime]](obj)\n",
            "  .                 if (is.null(rpr)) \n",
            "  .                   return(NULL)\n",
            "  .                 prepare_content(is.raw(rpr), rpr)\n",
            "  .             }, error = error_handler), error = outer_handler)\n",
            "  .         }), Filter(Negate(is.null), sapply(x, f, simplify = simplify)), \n",
            "  .         unlist(lapply(x, f)), lapply(x, f), sapply(x, f, simplify = simplify), \n",
            "  .         lapply(X = X, FUN = FUN, ...), FUN(X[[i]], ...), tryCatch(withCallingHandlers({\n",
            "  .             if (!mime %in% names(repr::mime2repr)) \n",
            "  .                 stop(\"No repr_* for mimetype \", mime, \" in repr::mime2repr\")\n",
            "  .             rpr <- repr::mime2repr[[mime]](obj)\n",
            "  .             if (is.null(rpr)) \n",
            "  .                 return(NULL)\n",
            "  .             prepare_content(is.raw(rpr), rpr)\n",
            "  .         }, error = error_handler), error = outer_handler), tryCatchList(expr, \n",
            "  .             classes, parentenv, handlers), tryCatchOne(expr, \n",
            "  .             names, parentenv, handlers[[1L]]), doTryCatch(return(expr), \n",
            "  .             name, parentenv, handler), withCallingHandlers({\n",
            "  .             if (!mime %in% names(repr::mime2repr)) \n",
            "  .                 stop(\"No repr_* for mimetype \", mime, \" in repr::mime2repr\")\n",
            "  .             rpr <- repr::mime2repr[[mime]](obj)\n",
            "  .             if (is.null(rpr)) \n",
            "  .                 return(NULL)\n",
            "  .             prepare_content(is.raw(rpr), rpr)\n",
            "  .         }, error = error_handler), repr::mime2repr[[mime]](obj), \n",
            "  .         repr_text.default(obj), paste(capture.output(print(obj)), \n",
            "  .             collapse = \"\\n\"), capture.output(print(obj)), withVisible(...elt(i)), \n",
            "  .         print(obj), print.ggplot(obj), ggplot_build(x), ggplot_build.ggplot(x), \n",
            "  .         by_layer(function(l, d) l$compute_statistic(d, layout), \n",
            "  .             layers, data, \"computing stat\"), try_fetch(for (i in seq_along(data)) {\n",
            "  .             out[[i]] <- f(l = layers[[i]], d = data[[i]])\n",
            "  .         }, error = function(cnd) {\n",
            "  .             cli::cli_abort(c(\"Problem while {step}.\", i = \"Error occurred in the {ordinal(i)} layer.\"), \n",
            "  .                 call = layers[[i]]$constructor, parent = cnd)\n",
            "  .         }), tryCatch(withCallingHandlers(expr, condition = function(cnd) {\n",
            "  .             {\n",
            "  .                 .__handler_frame__. <- TRUE\n",
            "  .                 .__setup_frame__. <- frame\n",
            "  .                 if (inherits(cnd, \"message\")) {\n",
            "  .                   except <- c(\"warning\", \"error\")\n",
            "  .                 }\n",
            "  .                 else if (inherits(cnd, \"warning\")) {\n",
            "  .                   except <- \"error\"\n",
            "  .                 }\n",
            "  .                 else {\n",
            "  .                   except <- \"\"\n",
            "  .                 }\n",
            "  .             }\n",
            "  .             while (!is_null(cnd)) {\n",
            "  .                 if (inherits(cnd, \"error\")) {\n",
            "  .                   out <- handlers[[1L]](cnd)\n",
            "  .                   if (!inherits(out, \"rlang_zap\")) \n",
            "  .                     throw(out)\n",
            "  .                 }\n",
            "  .                 inherit <- .subset2(.subset2(cnd, \"rlang\"), \"inherit\")\n",
            "  .                 if (is_false(inherit)) {\n",
            "  .                   return()\n",
            "  .                 }\n",
            "  .                 cnd <- .subset2(cnd, \"parent\")\n",
            "  .             }\n",
            "  .         }), stackOverflowError = handlers[[1L]]), tryCatchList(expr, \n",
            "  .             classes, parentenv, handlers), tryCatchOne(expr, \n",
            "  .             names, parentenv, handlers[[1L]]), doTryCatch(return(expr), \n",
            "  .             name, parentenv, handler), withCallingHandlers(expr, \n",
            "  .             condition = function(cnd) {\n",
            "  .                 {\n",
            "  .                   .__handler_frame__. <- TRUE\n",
            "  .                   .__setup_frame__. <- frame\n",
            "  .                   if (inherits(cnd, \"message\")) {\n",
            "  .                     except <- c(\"warning\", \"error\")\n",
            "  .                   }\n",
            "  .                   else if (inherits(cnd, \"warning\")) {\n",
            "  .                     except <- \"error\"\n",
            "  .                   }\n",
            "  .                   else {\n",
            "  .                     except <- \"\"\n",
            "  .                   }\n",
            "  .                 }\n",
            "  .                 while (!is_null(cnd)) {\n",
            "  .                   if (inherits(cnd, \"error\")) {\n",
            "  .                     out <- handlers[[1L]](cnd)\n",
            "  .                     if (!inherits(out, \"rlang_zap\")) \n",
            "  .                       throw(out)\n",
            "  .                   }\n",
            "  .                   inherit <- .subset2(.subset2(cnd, \"rlang\"), \n",
            "  .                     \"inherit\")\n",
            "  .                   if (is_false(inherit)) {\n",
            "  .                     return()\n",
            "  .                   }\n",
            "  .                   cnd <- .subset2(cnd, \"parent\")\n",
            "  .                 }\n",
            "  .             }), f(l = layers[[i]], d = data[[i]]), l$compute_statistic(d, \n",
            "  .             layout), compute_statistic(..., self = self), self$stat$compute_layer(data, \n",
            "  .             self$computed_stat_params, layout), compute_layer(..., \n",
            "  .             self = self), check_required_aesthetics(self$required_aes, \n",
            "  .             c(names(data), names(params)), snake_class(self)), \n",
            "  .         cli::cli_abort(message, call = call), rlang::abort(message, \n",
            "  .             ..., call = call, use_cli_format = TRUE, .frame = .frame)), \n",
            "  .         parent = c(0L, 1L, 2L, 3L, 4L, 5L, 6L, 7L, 6L, 9L, 10L, \n",
            "  .         4L, 12L, 13L, 14L, 15L, 16L, 17L, 18L, 13L, 13L, 13L, \n",
            "  .         22L, 23L, 24L, 25L, 26L, 26L, 25L, 29L, 30L, 31L, 32L, \n",
            "  .         33L, 34L, 31L, 31L, 31L, 38L, 38L, 40L, 38L, 38L, 43L, \n",
            "  .         43L, 45L, 46L, 47L, 48L, 49L, 50L, 47L, 46L, 53L, 54L, \n",
            "  .         55L, 56L, 57L, 58L, 59L), visible = c(TRUE, TRUE, TRUE, \n",
            "  .         TRUE, TRUE, TRUE, TRUE, TRUE, TRUE, TRUE, TRUE, TRUE, \n",
            "  .         TRUE, TRUE, TRUE, TRUE, TRUE, TRUE, TRUE, TRUE, TRUE, \n",
            "  .         TRUE, TRUE, TRUE, TRUE, TRUE, TRUE, TRUE, TRUE, TRUE, \n",
            "  .         TRUE, TRUE, TRUE, TRUE, TRUE, TRUE, TRUE, TRUE, TRUE, \n",
            "  .         TRUE, TRUE, TRUE, TRUE, TRUE, TRUE, TRUE, TRUE, TRUE, \n",
            "  .         TRUE, TRUE, TRUE, TRUE, TRUE, TRUE, TRUE, TRUE, TRUE, \n",
            "  .         FALSE, FALSE, FALSE), namespace = c(\"IRkernel\", NA, \"IRkernel\", \n",
            "  .         NA, \"base\", \"base\", \"base\", \"base\", \"base\", \"base\", \"base\", \n",
            "  .         \"evaluate\", \"evaluate\", \"evaluate\", \"base\", \"base\", \"base\", \n",
            "  .         \"base\", \"base\", \"base\", \"base\", \"IRkernel\", \"IRkernel\", \n",
            "  .         \"IRdisplay\", \"IRdisplay\", \"base\", \"base\", \"base\", \"base\", \n",
            "  .         \"base\", \"IRdisplay\", \"base\", \"base\", \"base\", \"base\", \n",
            "  .         \"base\", NA, \"repr\", \"base\", \"utils\", \"base\", \"base\", \n",
            "  .         \"ggplot2\", \"ggplot2\", \"ggplot2\", \"ggplot2\", \"rlang\", \n",
            "  .         \"base\", \"base\", \"base\", \"base\", \"base\", \"ggplot2\", NA, \n",
            "  .         \"ggplot2\", NA, \"ggplot2\", \"ggplot2\", \"cli\", \"rlang\"), \n",
            "  .         scope = c(\"::\", NA, \"local\", NA, \"::\", \"local\", \"local\", \n",
            "  .         \"local\", \"local\", \"local\", \"local\", \"::\", \":::\", \"local\", \n",
            "  .         \"::\", \"::\", \"local\", \"local\", \"local\", \"::\", \"::\", \"local\", \n",
            "  .         \":::\", \"::\", \":::\", \"::\", \"::\", \"::\", \"::\", \"::\", \"local\", \n",
            "  .         \"::\", \"local\", \"local\", \"local\", \"::\", NA, \":::\", \"::\", \n",
            "  .         \"::\", \"::\", \"::\", \":::\", \"::\", \":::\", \":::\", \"::\", \"::\", \n",
            "  .         \"local\", \"local\", \"local\", \"::\", \"local\", NA, \"local\", \n",
            "  .         NA, \"local\", \":::\", \"::\", \"::\"), error_frame = c(FALSE, \n",
            "  .         FALSE, FALSE, FALSE, FALSE, FALSE, FALSE, FALSE, FALSE, \n",
            "  .         FALSE, FALSE, FALSE, FALSE, FALSE, FALSE, FALSE, FALSE, \n",
            "  .         FALSE, FALSE, FALSE, FALSE, FALSE, FALSE, FALSE, FALSE, \n",
            "  .         FALSE, FALSE, FALSE, FALSE, FALSE, FALSE, FALSE, FALSE, \n",
            "  .         FALSE, FALSE, FALSE, FALSE, FALSE, FALSE, FALSE, FALSE, \n",
            "  .         FALSE, FALSE, FALSE, FALSE, FALSE, FALSE, FALSE, FALSE, \n",
            "  .         FALSE, FALSE, FALSE, FALSE, FALSE, FALSE, FALSE, TRUE, \n",
            "  .         FALSE, FALSE, FALSE)), row.names = c(NA, -60L), version = 2L, class = c(\"rlang_trace\", \n",
            "  .     \"rlib_trace\", \"tbl\", \"data.frame\")), parent = NULL, rlang = list(\n",
            "  .         inherit = TRUE), call = compute_layer(..., self = self), \n",
            "  .     use_cli_format = TRUE), class = c(\"rlang_error\", \"error\", \n",
            "  . \"condition\")))\n",
            "33. handlers[[1L]](cnd)\n",
            "34. cli::cli_abort(c(\"Problem while {step}.\", i = \"Error occurred in the {ordinal(i)} layer.\"), \n",
            "  .     call = layers[[i]]$constructor, parent = cnd)\n",
            "35. rlang::abort(message, ..., call = call, use_cli_format = TRUE, \n",
            "  .     .frame = .frame)\n",
            "36. signal_abort(cnd, .file)\n"
          ]
        }
      ]
    },
    {
      "cell_type": "code",
      "source": [
        "\n",
        "# Explore the 'Previous Scores' variable\n",
        "X_previous_scores <- df$`Previous Scores`\n",
        "cat(\"Variable type: \", typeof(X_previous_scores), \"\\n\")\n",
        "\n",
        "# Plot histogram and violin plot\n",
        "hist(X_previous_scores)\n",
        "ggplot(df, aes(x=factor(1), y=X_previous_scores, fill=factor(1))) +\n",
        "  geom_violin(color='#f7ba81') +\n",
        "  theme_minimal()\n",
        "\n",
        "# Scatter plot\n",
        "ggplot(df, aes(x=X_previous_scores, y=response)) +\n",
        "  geom_point()\n",
        "\n",
        "# Explore the 'Extracurricular Activities' variable\n",
        "X_extracurricular <- df$`Extracurricular Activities`\n",
        "cat(\"Variable type: \", typeof(X_extracurricular), \"\\n\")\n",
        "head(X_extracurricular)\n",
        "\n",
        "# Plot histogram\n",
        "hist(X_extracurricular)\n",
        "# Plot counts of 'Yes' and 'No'\n",
        "ggplot(df, aes(x=`Extracurricular Activities`)) +\n",
        "  geom_bar()\n",
        "\n",
        "# Confidence interval calculations\n",
        "Yes_Count <- df[df$`Extracurricular Activities` == 'Yes', ]$`Performance Index`\n",
        "No_Count <- df[df$`Extracurricular Activities` == 'No', ]$`Performance Index`\n",
        "cat(\"Yes proportion:\", length(Yes_Count) / nrow(df), \"\\n\")\n",
        "cat(\"No proportion:\", length(No_Count) / nrow(df), \"\\n\")\n",
        "\n",
        "# Line plot with confidence intervals\n",
        "ggplot() +\n",
        "  geom_line(aes(x=1, y=length(Yes_Count) / nrow(df)), color='red', marker='o') +\n",
        "  geom_line(aes(x=2, y=length(No_Count) / nrow(df)), color='red', marker='o') +\n",
        "  geom_segment(aes(x=1, xend=1, y=length(Yes_Count) / nrow(df) + 1.96*sd(Yes_Count)/sqrt(length(Yes_Count)), yend=length(Yes_Count) / nrow(df) - 1.96*sd(Yes_Count)/sqrt(length(Yes_Count))), linetype=\"dashed\") +\n",
        "  geom_segment(aes(x=2, xend=2, y=length(No_Count) / nrow(df) + 1.96*sd(No_Count)/sqrt(length(No_Count)), yend=length(No_Count) / nrow(df) - 1.96*sd(No_Count)/sqrt(length(No_Count))), linetype=\"dashed\")\n",
        "\n",
        "# Create a new variable 'Extracurricular_Activities_New'\n",
        "df$Extracurricular_Activities_New <- ifelse(df$`Extracurricular Activities` == 'Yes', 1, 0)\n",
        "\n",
        "# Explore the 'Sleep Hours' variable\n",
        "X_sleep_hours <- df$`Sleep Hours`\n",
        "cat(\"Variable type: \", typeof(X_sleep_hours), \"\\n\")\n",
        "\n",
        "# Plot histogram\n",
        "hist(X_sleep_hours)\n",
        "\n",
        "# Boxplot and violin plot\n",
        "boxplot(response ~ X_sleep_hours, data=df)\n",
        "ggplot(df, aes(x=factor(1), y=X_sleep_hours, fill=factor(1))) +\n",
        "  geom_violin() +\n",
        "  theme_minimal()\n",
        "\n",
        "# Explore the 'Sample Question Papers Practiced' variable\n",
        "X_question_papers <- df$`Sample Question Papers Practiced`\n",
        "cat(\"Variable type: \", typeof(X_question_papers), \"\\n\")\n",
        "\n",
        "# Boxplot\n",
        "boxplot(response ~ X_question_papers, data=df)\n",
        "\n",
        "# Create feature matrix X and response variable Y\n",
        "X <- df[c('Hours Studied', 'Previous Scores', 'Extracurricular_Activities_New', 'Sleep Hours', 'Sample Question Papers Practiced')]\n",
        "Y <- df$`Performance Index`\n",
        "\n",
        "# Split the data into training and testing sets\n",
        "set.seed(42)\n",
        "index <- createDataPartition(Y, p=0.7, list=FALSE)\n",
        "X_train <- X[index, ]\n",
        "Y_train <- Y[index]\n",
        "X_test <- X[-index, ]\n",
        "Y_test <- Y[-index]\n",
        "\n",
        "# Train Ridge regression model\n",
        "library(glmnet)\n",
        "ridge_model <- cv.glmnet(as.matrix(X_train), Y_train, alpha=0)\n",
        "\n",
        "# Print the R-squared score on the test set\n",
        "ridge_model$glmnet.fit$dev.ratio[which.min(ridge_model$glmnet.fit$dev.ratio)] # This line shows the R-squared score"
      ],
      "metadata": {
        "colab": {
          "base_uri": "https://localhost:8080/",
          "height": 200
        },
        "id": "JF9i1gdQ74cO",
        "outputId": "f977c059-8a4b-4e67-d273-ed60d038ed8b"
      },
      "execution_count": 26,
      "outputs": [
        {
          "output_type": "stream",
          "name": "stdout",
          "text": [
            "Variable type:  NULL \n"
          ]
        },
        {
          "output_type": "error",
          "ename": "ERROR",
          "evalue": "Error in hist.default(X_previous_scores): 'x' must be numeric\n",
          "traceback": [
            "Error in hist.default(X_previous_scores): 'x' must be numeric\nTraceback:\n",
            "1. hist(X_previous_scores)",
            "2. hist.default(X_previous_scores)",
            "3. stop(\"'x' must be numeric\")"
          ]
        }
      ]
    }
  ]
}